{
  "nbformat": 4,
  "nbformat_minor": 0,
  "metadata": {
    "colab": {
      "provenance": []
    },
    "kernelspec": {
      "name": "python3",
      "display_name": "Python 3"
    },
    "language_info": {
      "name": "python"
    }
  },
  "cells": [
    {
      "cell_type": "code",
      "execution_count": 5,
      "metadata": {
        "id": "cKVzInXrteyO"
      },
      "outputs": [],
      "source": [
        "import numpy as np\n",
        "import pandas as pd\n",
        "import matplotlib.pyplot as plt"
      ]
    },
    {
      "cell_type": "code",
      "source": [
        "df = pd.read_csv('/content/ushape.csv')"
      ],
      "metadata": {
        "id": "l-CtLegnti3_"
      },
      "execution_count": 6,
      "outputs": []
    },
    {
      "cell_type": "code",
      "source": [
        "new_column_names = ['X', 'Y', 'class']\n",
        "\n",
        "# Rename the columns\n",
        "df.columns = new_column_names"
      ],
      "metadata": {
        "id": "Ivvgn9onZ0Yp"
      },
      "execution_count": 7,
      "outputs": []
    },
    {
      "cell_type": "code",
      "source": [
        "df.head()"
      ],
      "metadata": {
        "colab": {
          "base_uri": "https://localhost:8080/",
          "height": 206
        },
        "id": "T9P8j9Ubtt9t",
        "outputId": "7df529b8-1b92-4447-8a44-df86b03a5f31"
      },
      "execution_count": 8,
      "outputs": [
        {
          "output_type": "execute_result",
          "data": {
            "text/plain": [
              "          X         Y  class\n",
              "0  2.115098 -0.046244    1.0\n",
              "1  0.882490 -0.075756    0.0\n",
              "2 -0.055144 -0.037332    1.0\n",
              "3  0.829545 -0.539321    1.0\n",
              "4  2.112857  0.662084    1.0"
            ],
            "text/html": [
              "\n",
              "  <div id=\"df-415d0f0d-dc7b-4b06-ae0d-4f381ae60540\" class=\"colab-df-container\">\n",
              "    <div>\n",
              "<style scoped>\n",
              "    .dataframe tbody tr th:only-of-type {\n",
              "        vertical-align: middle;\n",
              "    }\n",
              "\n",
              "    .dataframe tbody tr th {\n",
              "        vertical-align: top;\n",
              "    }\n",
              "\n",
              "    .dataframe thead th {\n",
              "        text-align: right;\n",
              "    }\n",
              "</style>\n",
              "<table border=\"1\" class=\"dataframe\">\n",
              "  <thead>\n",
              "    <tr style=\"text-align: right;\">\n",
              "      <th></th>\n",
              "      <th>X</th>\n",
              "      <th>Y</th>\n",
              "      <th>class</th>\n",
              "    </tr>\n",
              "  </thead>\n",
              "  <tbody>\n",
              "    <tr>\n",
              "      <th>0</th>\n",
              "      <td>2.115098</td>\n",
              "      <td>-0.046244</td>\n",
              "      <td>1.0</td>\n",
              "    </tr>\n",
              "    <tr>\n",
              "      <th>1</th>\n",
              "      <td>0.882490</td>\n",
              "      <td>-0.075756</td>\n",
              "      <td>0.0</td>\n",
              "    </tr>\n",
              "    <tr>\n",
              "      <th>2</th>\n",
              "      <td>-0.055144</td>\n",
              "      <td>-0.037332</td>\n",
              "      <td>1.0</td>\n",
              "    </tr>\n",
              "    <tr>\n",
              "      <th>3</th>\n",
              "      <td>0.829545</td>\n",
              "      <td>-0.539321</td>\n",
              "      <td>1.0</td>\n",
              "    </tr>\n",
              "    <tr>\n",
              "      <th>4</th>\n",
              "      <td>2.112857</td>\n",
              "      <td>0.662084</td>\n",
              "      <td>1.0</td>\n",
              "    </tr>\n",
              "  </tbody>\n",
              "</table>\n",
              "</div>\n",
              "    <div class=\"colab-df-buttons\">\n",
              "\n",
              "  <div class=\"colab-df-container\">\n",
              "    <button class=\"colab-df-convert\" onclick=\"convertToInteractive('df-415d0f0d-dc7b-4b06-ae0d-4f381ae60540')\"\n",
              "            title=\"Convert this dataframe to an interactive table.\"\n",
              "            style=\"display:none;\">\n",
              "\n",
              "  <svg xmlns=\"http://www.w3.org/2000/svg\" height=\"24px\" viewBox=\"0 -960 960 960\">\n",
              "    <path d=\"M120-120v-720h720v720H120Zm60-500h600v-160H180v160Zm220 220h160v-160H400v160Zm0 220h160v-160H400v160ZM180-400h160v-160H180v160Zm440 0h160v-160H620v160ZM180-180h160v-160H180v160Zm440 0h160v-160H620v160Z\"/>\n",
              "  </svg>\n",
              "    </button>\n",
              "\n",
              "  <style>\n",
              "    .colab-df-container {\n",
              "      display:flex;\n",
              "      gap: 12px;\n",
              "    }\n",
              "\n",
              "    .colab-df-convert {\n",
              "      background-color: #E8F0FE;\n",
              "      border: none;\n",
              "      border-radius: 50%;\n",
              "      cursor: pointer;\n",
              "      display: none;\n",
              "      fill: #1967D2;\n",
              "      height: 32px;\n",
              "      padding: 0 0 0 0;\n",
              "      width: 32px;\n",
              "    }\n",
              "\n",
              "    .colab-df-convert:hover {\n",
              "      background-color: #E2EBFA;\n",
              "      box-shadow: 0px 1px 2px rgba(60, 64, 67, 0.3), 0px 1px 3px 1px rgba(60, 64, 67, 0.15);\n",
              "      fill: #174EA6;\n",
              "    }\n",
              "\n",
              "    .colab-df-buttons div {\n",
              "      margin-bottom: 4px;\n",
              "    }\n",
              "\n",
              "    [theme=dark] .colab-df-convert {\n",
              "      background-color: #3B4455;\n",
              "      fill: #D2E3FC;\n",
              "    }\n",
              "\n",
              "    [theme=dark] .colab-df-convert:hover {\n",
              "      background-color: #434B5C;\n",
              "      box-shadow: 0px 1px 3px 1px rgba(0, 0, 0, 0.15);\n",
              "      filter: drop-shadow(0px 1px 2px rgba(0, 0, 0, 0.3));\n",
              "      fill: #FFFFFF;\n",
              "    }\n",
              "  </style>\n",
              "\n",
              "    <script>\n",
              "      const buttonEl =\n",
              "        document.querySelector('#df-415d0f0d-dc7b-4b06-ae0d-4f381ae60540 button.colab-df-convert');\n",
              "      buttonEl.style.display =\n",
              "        google.colab.kernel.accessAllowed ? 'block' : 'none';\n",
              "\n",
              "      async function convertToInteractive(key) {\n",
              "        const element = document.querySelector('#df-415d0f0d-dc7b-4b06-ae0d-4f381ae60540');\n",
              "        const dataTable =\n",
              "          await google.colab.kernel.invokeFunction('convertToInteractive',\n",
              "                                                    [key], {});\n",
              "        if (!dataTable) return;\n",
              "\n",
              "        const docLinkHtml = 'Like what you see? Visit the ' +\n",
              "          '<a target=\"_blank\" href=https://colab.research.google.com/notebooks/data_table.ipynb>data table notebook</a>'\n",
              "          + ' to learn more about interactive tables.';\n",
              "        element.innerHTML = '';\n",
              "        dataTable['output_type'] = 'display_data';\n",
              "        await google.colab.output.renderOutput(dataTable, element);\n",
              "        const docLink = document.createElement('div');\n",
              "        docLink.innerHTML = docLinkHtml;\n",
              "        element.appendChild(docLink);\n",
              "      }\n",
              "    </script>\n",
              "  </div>\n",
              "\n",
              "\n",
              "<div id=\"df-e73b3db6-235e-4e39-a333-c7d05d8581d8\">\n",
              "  <button class=\"colab-df-quickchart\" onclick=\"quickchart('df-e73b3db6-235e-4e39-a333-c7d05d8581d8')\"\n",
              "            title=\"Suggest charts\"\n",
              "            style=\"display:none;\">\n",
              "\n",
              "<svg xmlns=\"http://www.w3.org/2000/svg\" height=\"24px\"viewBox=\"0 0 24 24\"\n",
              "     width=\"24px\">\n",
              "    <g>\n",
              "        <path d=\"M19 3H5c-1.1 0-2 .9-2 2v14c0 1.1.9 2 2 2h14c1.1 0 2-.9 2-2V5c0-1.1-.9-2-2-2zM9 17H7v-7h2v7zm4 0h-2V7h2v10zm4 0h-2v-4h2v4z\"/>\n",
              "    </g>\n",
              "</svg>\n",
              "  </button>\n",
              "\n",
              "<style>\n",
              "  .colab-df-quickchart {\n",
              "      --bg-color: #E8F0FE;\n",
              "      --fill-color: #1967D2;\n",
              "      --hover-bg-color: #E2EBFA;\n",
              "      --hover-fill-color: #174EA6;\n",
              "      --disabled-fill-color: #AAA;\n",
              "      --disabled-bg-color: #DDD;\n",
              "  }\n",
              "\n",
              "  [theme=dark] .colab-df-quickchart {\n",
              "      --bg-color: #3B4455;\n",
              "      --fill-color: #D2E3FC;\n",
              "      --hover-bg-color: #434B5C;\n",
              "      --hover-fill-color: #FFFFFF;\n",
              "      --disabled-bg-color: #3B4455;\n",
              "      --disabled-fill-color: #666;\n",
              "  }\n",
              "\n",
              "  .colab-df-quickchart {\n",
              "    background-color: var(--bg-color);\n",
              "    border: none;\n",
              "    border-radius: 50%;\n",
              "    cursor: pointer;\n",
              "    display: none;\n",
              "    fill: var(--fill-color);\n",
              "    height: 32px;\n",
              "    padding: 0;\n",
              "    width: 32px;\n",
              "  }\n",
              "\n",
              "  .colab-df-quickchart:hover {\n",
              "    background-color: var(--hover-bg-color);\n",
              "    box-shadow: 0 1px 2px rgba(60, 64, 67, 0.3), 0 1px 3px 1px rgba(60, 64, 67, 0.15);\n",
              "    fill: var(--button-hover-fill-color);\n",
              "  }\n",
              "\n",
              "  .colab-df-quickchart-complete:disabled,\n",
              "  .colab-df-quickchart-complete:disabled:hover {\n",
              "    background-color: var(--disabled-bg-color);\n",
              "    fill: var(--disabled-fill-color);\n",
              "    box-shadow: none;\n",
              "  }\n",
              "\n",
              "  .colab-df-spinner {\n",
              "    border: 2px solid var(--fill-color);\n",
              "    border-color: transparent;\n",
              "    border-bottom-color: var(--fill-color);\n",
              "    animation:\n",
              "      spin 1s steps(1) infinite;\n",
              "  }\n",
              "\n",
              "  @keyframes spin {\n",
              "    0% {\n",
              "      border-color: transparent;\n",
              "      border-bottom-color: var(--fill-color);\n",
              "      border-left-color: var(--fill-color);\n",
              "    }\n",
              "    20% {\n",
              "      border-color: transparent;\n",
              "      border-left-color: var(--fill-color);\n",
              "      border-top-color: var(--fill-color);\n",
              "    }\n",
              "    30% {\n",
              "      border-color: transparent;\n",
              "      border-left-color: var(--fill-color);\n",
              "      border-top-color: var(--fill-color);\n",
              "      border-right-color: var(--fill-color);\n",
              "    }\n",
              "    40% {\n",
              "      border-color: transparent;\n",
              "      border-right-color: var(--fill-color);\n",
              "      border-top-color: var(--fill-color);\n",
              "    }\n",
              "    60% {\n",
              "      border-color: transparent;\n",
              "      border-right-color: var(--fill-color);\n",
              "    }\n",
              "    80% {\n",
              "      border-color: transparent;\n",
              "      border-right-color: var(--fill-color);\n",
              "      border-bottom-color: var(--fill-color);\n",
              "    }\n",
              "    90% {\n",
              "      border-color: transparent;\n",
              "      border-bottom-color: var(--fill-color);\n",
              "    }\n",
              "  }\n",
              "</style>\n",
              "\n",
              "  <script>\n",
              "    async function quickchart(key) {\n",
              "      const quickchartButtonEl =\n",
              "        document.querySelector('#' + key + ' button');\n",
              "      quickchartButtonEl.disabled = true;  // To prevent multiple clicks.\n",
              "      quickchartButtonEl.classList.add('colab-df-spinner');\n",
              "      try {\n",
              "        const charts = await google.colab.kernel.invokeFunction(\n",
              "            'suggestCharts', [key], {});\n",
              "      } catch (error) {\n",
              "        console.error('Error during call to suggestCharts:', error);\n",
              "      }\n",
              "      quickchartButtonEl.classList.remove('colab-df-spinner');\n",
              "      quickchartButtonEl.classList.add('colab-df-quickchart-complete');\n",
              "    }\n",
              "    (() => {\n",
              "      let quickchartButtonEl =\n",
              "        document.querySelector('#df-e73b3db6-235e-4e39-a333-c7d05d8581d8 button');\n",
              "      quickchartButtonEl.style.display =\n",
              "        google.colab.kernel.accessAllowed ? 'block' : 'none';\n",
              "    })();\n",
              "  </script>\n",
              "</div>\n",
              "\n",
              "    </div>\n",
              "  </div>\n"
            ],
            "application/vnd.google.colaboratory.intrinsic+json": {
              "type": "dataframe",
              "variable_name": "df",
              "summary": "{\n  \"name\": \"df\",\n  \"rows\": 99,\n  \"fields\": [\n    {\n      \"column\": \"X\",\n      \"properties\": {\n        \"dtype\": \"number\",\n        \"std\": 0.8943130566096504,\n        \"min\": -1.318500344394381,\n        \"max\": 2.181371683049025,\n        \"num_unique_values\": 99,\n        \"samples\": [\n          0.1273314190904385,\n          0.6417403675063451,\n          0.21862323352500593\n        ],\n        \"semantic_type\": \"\",\n        \"description\": \"\"\n      }\n    },\n    {\n      \"column\": \"Y\",\n      \"properties\": {\n        \"dtype\": \"number\",\n        \"std\": 0.5909086142970597,\n        \"min\": -1.0357020680498332,\n        \"max\": 1.5718993127141032,\n        \"num_unique_values\": 99,\n        \"samples\": [\n          -0.3796548967118949,\n          -0.39369468370639576,\n          -0.6525211867631453\n        ],\n        \"semantic_type\": \"\",\n        \"description\": \"\"\n      }\n    },\n    {\n      \"column\": \"class\",\n      \"properties\": {\n        \"dtype\": \"number\",\n        \"std\": 0.502518907629606,\n        \"min\": 0.0,\n        \"max\": 1.0,\n        \"num_unique_values\": 2,\n        \"samples\": [\n          0.0,\n          1.0\n        ],\n        \"semantic_type\": \"\",\n        \"description\": \"\"\n      }\n    }\n  ]\n}"
            }
          },
          "metadata": {},
          "execution_count": 8
        }
      ]
    },
    {
      "cell_type": "code",
      "source": [
        "plt.scatter(df['X'],df['Y'],c=df['class'])"
      ],
      "metadata": {
        "colab": {
          "base_uri": "https://localhost:8080/",
          "height": 448
        },
        "id": "ZuYqGD_mtuQG",
        "outputId": "8a4270d5-c7bd-4eff-bdb4-ea5032651207"
      },
      "execution_count": 9,
      "outputs": [
        {
          "output_type": "execute_result",
          "data": {
            "text/plain": [
              "<matplotlib.collections.PathCollection at 0x7d10d339e950>"
            ]
          },
          "metadata": {},
          "execution_count": 9
        },
        {
          "output_type": "display_data",
          "data": {
            "text/plain": [
              "<Figure size 640x480 with 1 Axes>"
            ],
            "image/png": "[encoded data removed]"
          },
          "metadata": {}
        }
      ]
    },
    {
      "cell_type": "code",
      "source": [
        "X = df.iloc[:,0:2].values\n",
        "y = df.iloc[:,-1].values"
      ],
      "metadata": {
        "id": "nwXuHnqhtwEJ"
      },
      "execution_count": 10,
      "outputs": []
    },
    {
      "cell_type": "code",
      "source": [
        "import tensorflow\n",
        "from tensorflow import keras\n",
        "from keras import Sequential\n",
        "from keras.layers import Dense"
      ],
      "metadata": {
        "id": "ylDVIM8Ltx0H"
      },
      "execution_count": 11,
      "outputs": []
    },
    {
      "cell_type": "code",
      "source": [
        "model = Sequential()\n",
        "\n",
        "model.add(Dense(10,activation='relu',input_dim=2,kernel_initializer='he_normal'))\n",
        "model.add(Dense(10,activation='relu',kernel_initializer='he_normal'))\n",
        "model.add(Dense(10,activation='relu',kernel_initializer='he_normal'))\n",
        "model.add(Dense(10,activation='relu',kernel_initializer='he_normal'))\n",
        "model.add(Dense(1,activation='sigmoid'))\n",
        "\n",
        "model.summary()"
      ],
      "metadata": {
        "colab": {
          "base_uri": "https://localhost:8080/",
          "height": 357
        },
        "id": "id8rhK5OtzVX",
        "outputId": "7169b6df-d2f2-4590-88cf-07b7042a0385"
      },
      "execution_count": 12,
      "outputs": [
        {
          "output_type": "stream",
          "name": "stderr",
          "text": [
            "/usr/local/lib/python3.10/dist-packages/keras/src/layers/core/dense.py:87: UserWarning: Do not pass an `input_shape`/`input_dim` argument to a layer. When using Sequential models, prefer using an `Input(shape)` object as the first layer in the model instead.\n",
            "  super().__init__(activity_regularizer=activity_regularizer, **kwargs)\n"
          ]
        },
        {
          "output_type": "display_data",
          "data": {
            "text/plain": [
              "\u001b[1mModel: \"sequential\"\u001b[0m\n"
            ],
            "text/html": [
              "<pre style=\"white-space:pre;overflow-x:auto;line-height:normal;font-family:Menlo,'DejaVu Sans Mono',consolas,'Courier New',monospace\"><span style=\"font-weight: bold\">Model: \"sequential\"</span>\n",
              "</pre>\n"
            ]
          },
          "metadata": {}
        },
        {
          "output_type": "display_data",
          "data": {
            "text/plain": [
              "┏━━━━━━━━━━━━━━━━━━━━━━━━━━━━━━━━━━━━━━┳━━━━━━━━━━━━━━━━━━━━━━━━━━━━━┳━━━━━━━━━━━━━━━━━┓\n",
              "┃\u001b[1m \u001b[0m\u001b[1mLayer (type)                        \u001b[0m\u001b[1m \u001b[0m┃\u001b[1m \u001b[0m\u001b[1mOutput Shape               \u001b[0m\u001b[1m \u001b[0m┃\u001b[1m \u001b[0m\u001b[1m        Param #\u001b[0m\u001b[1m \u001b[0m┃\n",
              "┡━━━━━━━━━━━━━━━━━━━━━━━━━━━━━━━━━━━━━━╇━━━━━━━━━━━━━━━━━━━━━━━━━━━━━╇━━━━━━━━━━━━━━━━━┩\n",
              "│ dense (\u001b[38;5;33mDense\u001b[0m)                        │ (\u001b[38;5;45mNone\u001b[0m, \u001b[38;5;34m10\u001b[0m)                  │              \u001b[38;5;34m30\u001b[0m │\n",
              "├──────────────────────────────────────┼─────────────────────────────┼─────────────────┤\n",
              "│ dense_1 (\u001b[38;5;33mDense\u001b[0m)                      │ (\u001b[38;5;45mNone\u001b[0m, \u001b[38;5;34m10\u001b[0m)                  │             \u001b[38;5;34m110\u001b[0m │\n",
              "├──────────────────────────────────────┼─────────────────────────────┼─────────────────┤\n",
              "│ dense_2 (\u001b[38;5;33mDense\u001b[0m)                      │ (\u001b[38;5;45mNone\u001b[0m, \u001b[38;5;34m10\u001b[0m)                  │             \u001b[38;5;34m110\u001b[0m │\n",
              "├──────────────────────────────────────┼─────────────────────────────┼─────────────────┤\n",
              "│ dense_3 (\u001b[38;5;33mDense\u001b[0m)                      │ (\u001b[38;5;45mNone\u001b[0m, \u001b[38;5;34m10\u001b[0m)                  │             \u001b[38;5;34m110\u001b[0m │\n",
              "├──────────────────────────────────────┼─────────────────────────────┼─────────────────┤\n",
              "│ dense_4 (\u001b[38;5;33mDense\u001b[0m)                      │ (\u001b[38;5;45mNone\u001b[0m, \u001b[38;5;34m1\u001b[0m)                   │              \u001b[38;5;34m11\u001b[0m │\n",
              "└──────────────────────────────────────┴─────────────────────────────┴─────────────────┘\n"
            ],
            "text/html": [
              "<pre style=\"white-space:pre;overflow-x:auto;line-height:normal;font-family:Menlo,'DejaVu Sans Mono',consolas,'Courier New',monospace\">┏━━━━━━━━━━━━━━━━━━━━━━━━━━━━━━━━━━━━━━┳━━━━━━━━━━━━━━━━━━━━━━━━━━━━━┳━━━━━━━━━━━━━━━━━┓\n",
              "┃<span style=\"font-weight: bold\"> Layer (type)                         </span>┃<span style=\"font-weight: bold\"> Output Shape                </span>┃<span style=\"font-weight: bold\">         Param # </span>┃\n",
              "┡━━━━━━━━━━━━━━━━━━━━━━━━━━━━━━━━━━━━━━╇━━━━━━━━━━━━━━━━━━━━━━━━━━━━━╇━━━━━━━━━━━━━━━━━┩\n",
              "│ dense (<span style=\"color: #0087ff; text-decoration-color: #0087ff\">Dense</span>)                        │ (<span style=\"color: #00d7ff; text-decoration-color: #00d7ff\">None</span>, <span style=\"color: #00af00; text-decoration-color: #00af00\">10</span>)                  │              <span style=\"color: #00af00; text-decoration-color: #00af00\">30</span> │\n",
              "├──────────────────────────────────────┼─────────────────────────────┼─────────────────┤\n",
              "│ dense_1 (<span style=\"color: #0087ff; text-decoration-color: #0087ff\">Dense</span>)                      │ (<span style=\"color: #00d7ff; text-decoration-color: #00d7ff\">None</span>, <span style=\"color: #00af00; text-decoration-color: #00af00\">10</span>)                  │             <span style=\"color: #00af00; text-decoration-color: #00af00\">110</span> │\n",
              "├──────────────────────────────────────┼─────────────────────────────┼─────────────────┤\n",
              "│ dense_2 (<span style=\"color: #0087ff; text-decoration-color: #0087ff\">Dense</span>)                      │ (<span style=\"color: #00d7ff; text-decoration-color: #00d7ff\">None</span>, <span style=\"color: #00af00; text-decoration-color: #00af00\">10</span>)                  │             <span style=\"color: #00af00; text-decoration-color: #00af00\">110</span> │\n",
              "├──────────────────────────────────────┼─────────────────────────────┼─────────────────┤\n",
              "│ dense_3 (<span style=\"color: #0087ff; text-decoration-color: #0087ff\">Dense</span>)                      │ (<span style=\"color: #00d7ff; text-decoration-color: #00d7ff\">None</span>, <span style=\"color: #00af00; text-decoration-color: #00af00\">10</span>)                  │             <span style=\"color: #00af00; text-decoration-color: #00af00\">110</span> │\n",
              "├──────────────────────────────────────┼─────────────────────────────┼─────────────────┤\n",
              "│ dense_4 (<span style=\"color: #0087ff; text-decoration-color: #0087ff\">Dense</span>)                      │ (<span style=\"color: #00d7ff; text-decoration-color: #00d7ff\">None</span>, <span style=\"color: #00af00; text-decoration-color: #00af00\">1</span>)                   │              <span style=\"color: #00af00; text-decoration-color: #00af00\">11</span> │\n",
              "└──────────────────────────────────────┴─────────────────────────────┴─────────────────┘\n",
              "</pre>\n"
            ]
          },
          "metadata": {}
        },
        {
          "output_type": "display_data",
          "data": {
            "text/plain": [
              "\u001b[1m Total params: \u001b[0m\u001b[38;5;34m371\u001b[0m (1.45 KB)\n"
            ],
            "text/html": [
              "<pre style=\"white-space:pre;overflow-x:auto;line-height:normal;font-family:Menlo,'DejaVu Sans Mono',consolas,'Courier New',monospace\"><span style=\"font-weight: bold\"> Total params: </span><span style=\"color: #00af00; text-decoration-color: #00af00\">371</span> (1.45 KB)\n",
              "</pre>\n"
            ]
          },
          "metadata": {}
        },
        {
          "output_type": "display_data",
          "data": {
            "text/plain": [
              "\u001b[1m Trainable params: \u001b[0m\u001b[38;5;34m371\u001b[0m (1.45 KB)\n"
            ],
            "text/html": [
              "<pre style=\"white-space:pre;overflow-x:auto;line-height:normal;font-family:Menlo,'DejaVu Sans Mono',consolas,'Courier New',monospace\"><span style=\"font-weight: bold\"> Trainable params: </span><span style=\"color: #00af00; text-decoration-color: #00af00\">371</span> (1.45 KB)\n",
              "</pre>\n"
            ]
          },
          "metadata": {}
        },
        {
          "output_type": "display_data",
          "data": {
            "text/plain": [
              "\u001b[1m Non-trainable params: \u001b[0m\u001b[38;5;34m0\u001b[0m (0.00 B)\n"
            ],
            "text/html": [
              "<pre style=\"white-space:pre;overflow-x:auto;line-height:normal;font-family:Menlo,'DejaVu Sans Mono',consolas,'Courier New',monospace\"><span style=\"font-weight: bold\"> Non-trainable params: </span><span style=\"color: #00af00; text-decoration-color: #00af00\">0</span> (0.00 B)\n",
              "</pre>\n"
            ]
          },
          "metadata": {}
        }
      ]
    },
    {
      "cell_type": "code",
      "source": [
        "model.get_weights()"
      ],
      "metadata": {
        "colab": {
          "base_uri": "https://localhost:8080/"
        },
        "id": "YjST2L1qt1UP",
        "outputId": "490a79a1-d447-4982-f2dc-4c9c23c7d69e"
      },
      "execution_count": 13,
      "outputs": [
        {
          "output_type": "execute_result",
          "data": {
            "text/plain": [
              "[array([[ 1.232651  , -1.9302828 ,  1.62258   ,  1.634931  ,  0.8180246 ,\n",
              "         -0.21904697, -0.50188524, -0.26481766, -1.6350253 ,  0.15748136],\n",
              "        [ 0.11693865, -0.80224144,  1.3856786 , -0.34534588,  0.9619386 ,\n",
              "         -1.2876966 , -0.916958  , -0.17998241, -0.9680271 , -1.8054042 ]],\n",
              "       dtype=float32),\n",
              " array([0., 0., 0., 0., 0., 0., 0., 0., 0., 0.], dtype=float32),\n",
              " array([[ 1.36512928e-02, -5.87022126e-01,  2.30170682e-01,\n",
              "          1.04135320e-01,  2.31703684e-01,  4.72137898e-01,\n",
              "          4.91325185e-02, -2.76332051e-01, -2.08075661e-02,\n",
              "          5.04530311e-01],\n",
              "        [-1.91296250e-01, -7.18688667e-01,  6.63765430e-01,\n",
              "         -5.07516563e-02,  7.17854321e-01,  2.02978060e-01,\n",
              "          3.83661002e-01, -4.67219651e-01, -3.24643344e-01,\n",
              "         -1.75910950e-01],\n",
              "        [-4.52456683e-01,  4.71928805e-01, -6.20634817e-02,\n",
              "          1.43563375e-01,  8.31319466e-02,  7.63977990e-02,\n",
              "          2.14144275e-01,  5.03045857e-01,  1.08067073e-01,\n",
              "         -2.74530619e-01],\n",
              "        [-3.20327550e-01,  4.83152896e-01,  2.98680156e-01,\n",
              "         -7.73413837e-01,  1.51246324e-01, -4.00616378e-01,\n",
              "          5.09925067e-01, -8.14138830e-01,  9.35855582e-02,\n",
              "          1.17658786e-01],\n",
              "        [-2.42229730e-01,  7.77776122e-01, -2.33122513e-01,\n",
              "         -3.64375025e-01,  1.44049346e-01, -2.74381459e-01,\n",
              "         -3.99693251e-01,  5.71215570e-01, -2.19282001e-01,\n",
              "         -8.63899197e-03],\n",
              "        [-1.61322340e-01,  2.89315701e-01, -4.04769965e-02,\n",
              "         -8.28588009e-01, -2.83861816e-01, -4.38404322e-01,\n",
              "          1.84901625e-01,  1.06347926e-01,  3.71731430e-01,\n",
              "          1.79809630e-01],\n",
              "        [-3.55074823e-01, -4.78978932e-01,  4.42612655e-02,\n",
              "         -8.71867299e-01, -4.49363559e-01, -8.75398874e-01,\n",
              "         -1.97287887e-01, -5.92708439e-02, -2.57618159e-01,\n",
              "         -2.38074556e-01],\n",
              "        [-1.35008365e-01,  1.60957262e-01,  5.04617393e-01,\n",
              "         -9.77534771e-01, -1.51106760e-01,  1.30472198e-01,\n",
              "         -5.39668202e-02,  3.37797016e-01, -9.59546268e-01,\n",
              "          7.93744326e-02],\n",
              "        [-5.66125691e-01, -5.13586223e-01,  1.14748411e-01,\n",
              "          2.84150131e-02, -1.94496661e-01,  2.34777614e-01,\n",
              "          4.34053600e-01,  6.25208914e-02, -9.47890282e-01,\n",
              "          5.21733016e-02],\n",
              "        [-1.69503883e-01,  1.90768988e-05,  2.61478364e-01,\n",
              "          1.66425351e-02, -2.53894389e-01,  1.15475535e-01,\n",
              "          1.99476048e-01,  1.01676211e-01,  6.10324182e-02,\n",
              "         -7.65655562e-02]], dtype=float32),\n",
              " array([0., 0., 0., 0., 0., 0., 0., 0., 0., 0.], dtype=float32),\n",
              " array([[-0.26905778, -0.13275927, -0.16645627, -0.91177255, -0.7591397 ,\n",
              "         -0.3116977 , -0.39412525, -0.58785397, -0.18773587, -0.12722032],\n",
              "        [-0.04019703,  0.27442998,  0.43708652,  0.42790553,  0.11632129,\n",
              "          0.27342397, -0.29919702, -0.95015115,  0.34057897, -0.9190652 ],\n",
              "        [-0.47996596,  0.3243082 , -0.61542845,  0.03357711,  0.34255818,\n",
              "          0.43359604,  0.3328863 , -0.2955012 , -0.29342806,  0.12120882],\n",
              "        [-0.07087053, -0.39444175,  0.61833066,  0.380787  ,  0.5858541 ,\n",
              "         -0.56600446,  0.12576565,  0.3171393 , -0.06126099,  0.47759068],\n",
              "        [-0.12924255,  0.5250377 , -0.08866185,  0.48702064,  0.4427039 ,\n",
              "          0.4269421 ,  0.35182002, -0.15527612, -0.45090243, -0.04114991],\n",
              "        [ 0.56970394,  0.03833844,  0.39604634, -0.73169273,  0.32579848,\n",
              "          0.69082606,  0.14393638,  0.17924127,  0.18449837, -0.25917417],\n",
              "        [-0.29931957,  0.11314394, -0.9460128 ,  0.6983118 , -0.79810184,\n",
              "          0.84418607,  0.40226796,  0.21496646, -0.54927605,  0.7067275 ],\n",
              "        [ 0.02099351, -0.5896087 ,  0.9566125 , -0.3570009 , -0.57732666,\n",
              "          0.19645187, -0.09507087, -0.12318964, -0.86439764, -0.38121003],\n",
              "        [ 0.6348653 , -0.38554728,  0.6468956 ,  0.4795482 ,  0.7863344 ,\n",
              "         -0.67168736,  0.4001297 ,  0.42665786, -0.1004663 ,  0.15754282],\n",
              "        [ 0.4507    , -0.09940715,  0.04852305, -0.47609276,  0.30653915,\n",
              "         -0.07167569, -0.582895  , -0.12173568,  0.43696377, -0.16769284]],\n",
              "       dtype=float32),\n",
              " array([0., 0., 0., 0., 0., 0., 0., 0., 0., 0.], dtype=float32),\n",
              " array([[ 0.1141765 , -0.54008424,  0.08408218,  0.29182398, -0.38703734,\n",
              "          0.32988366,  0.2749838 , -0.9122848 ,  0.43842208, -0.18543504],\n",
              "        [-0.18957381, -0.8879783 ,  0.44778508, -0.23938489,  0.53575313,\n",
              "          0.00588189, -0.4546356 , -0.22102416,  0.88104177, -0.00252356],\n",
              "        [ 0.56838673, -0.15920807, -0.50684494,  0.2354174 , -0.2601083 ,\n",
              "          0.88693243, -0.42993957, -0.22915734,  0.05650752,  0.07444982],\n",
              "        [ 0.58716726,  0.08914373, -0.75097716,  0.5244604 ,  0.37903497,\n",
              "          0.32249534,  0.70776767, -0.5332984 , -0.69845265,  0.21128345],\n",
              "        [-0.27827007,  0.06193151, -0.62338734,  0.04064872, -0.00488082,\n",
              "          0.4008094 ,  0.37144238,  0.5075955 ,  0.31522235,  0.2658914 ],\n",
              "        [-0.7205045 ,  0.51304793, -0.40115362, -0.5883777 ,  0.14947443,\n",
              "         -0.04913716,  0.2571889 , -0.09724348,  0.46068347,  0.2781744 ],\n",
              "        [ 0.13092393, -0.00517497,  0.4335869 ,  0.40911734,  0.2707726 ,\n",
              "          0.1546151 ,  0.9280639 , -0.45872396, -0.02457866,  0.5347819 ],\n",
              "        [-0.09844422, -0.20254892,  0.21417849,  0.76160175, -0.06805754,\n",
              "         -0.500844  , -0.2717627 ,  0.3110005 , -0.9463918 , -0.52242   ],\n",
              "        [-0.68229884, -0.539937  ,  0.45855922, -0.4788153 ,  0.12813269,\n",
              "          0.20797935,  0.30737478,  0.34255144, -0.31312713,  0.18864006],\n",
              "        [ 0.5231871 ,  0.73587686, -0.3133438 ,  0.4873838 , -0.26887757,\n",
              "         -0.54540306,  0.869828  , -0.3873204 ,  0.13495812,  0.28311533]],\n",
              "       dtype=float32),\n",
              " array([0., 0., 0., 0., 0., 0., 0., 0., 0., 0.], dtype=float32),\n",
              " array([[-0.2756206 ],\n",
              "        [ 0.18994969],\n",
              "        [ 0.02652597],\n",
              "        [ 0.36727613],\n",
              "        [ 0.31953853],\n",
              "        [ 0.50657946],\n",
              "        [ 0.5410306 ],\n",
              "        [ 0.7055133 ],\n",
              "        [-0.02178633],\n",
              "        [-0.35845676]], dtype=float32),\n",
              " array([0.], dtype=float32)]"
            ]
          },
          "metadata": {},
          "execution_count": 13
        }
      ]
    },
    {
      "cell_type": "code",
      "source": [
        "initial_weights = model.get_weights()"
      ],
      "metadata": {
        "id": "SNnRle4Dt4bc"
      },
      "execution_count": 14,
      "outputs": []
    },
    {
      "cell_type": "code",
      "source": [
        "initial_weights[0] = np.random.randn(2,10)*np.sqrt(1/2)\n",
        "initial_weights[1] = np.zeros(model.get_weights()[1].shape)\n",
        "initial_weights[2] = np.random.randn(10,10)*np.sqrt(1/10)\n",
        "initial_weights[3] = np.zeros(model.get_weights()[3].shape)\n",
        "initial_weights[4] = np.random.randn(10,10)*np.sqrt(1/10)\n",
        "initial_weights[5] = np.zeros(model.get_weights()[5].shape)\n",
        "initial_weights[6] = np.random.randn(10,10)*np.sqrt(1/10)\n",
        "initial_weights[7] = np.zeros(model.get_weights()[7].shape)\n",
        "initial_weights[8] = np.random.randn(10,1)*np.sqrt(1/10)\n",
        "initial_weights[9] = np.zeros(model.get_weights()[9].shape)"
      ],
      "metadata": {
        "id": "T6mklkSot6GI"
      },
      "execution_count": 15,
      "outputs": []
    },
    {
      "cell_type": "code",
      "source": [
        "model.set_weights(initial_weights)"
      ],
      "metadata": {
        "id": "cnoX9yK8ueEM"
      },
      "execution_count": 16,
      "outputs": []
    },
    {
      "cell_type": "code",
      "source": [
        "model.get_weights()"
      ],
      "metadata": {
        "colab": {
          "base_uri": "https://localhost:8080/"
        },
        "id": "1guey_KUujTP",
        "outputId": "480d7f1c-0f8a-48d6-c643-243812a1f0d9"
      },
      "execution_count": 17,
      "outputs": [
        {
          "output_type": "execute_result",
          "data": {
            "text/plain": [
              "[array([[ 0.41191274,  0.7256856 , -0.9335185 ,  0.30697554,  0.36054564,\n",
              "         -0.7457734 ,  0.40661237, -0.4266189 , -0.17399506, -0.16187736],\n",
              "        [-1.1601225 ,  0.6758169 ,  0.97836757,  0.16031456,  0.13383265,\n",
              "          0.07587582,  0.3388854 ,  0.53512025,  0.6383072 , -0.03164551]],\n",
              "       dtype=float32),\n",
              " array([0., 0., 0., 0., 0., 0., 0., 0., 0., 0.], dtype=float32),\n",
              " array([[-1.07751332e-01, -6.99188048e-03,  3.60682845e-01,\n",
              "         -1.40491322e-01,  1.44930795e-01, -2.14177556e-02,\n",
              "          2.50980377e-01, -4.82718050e-01, -3.78402382e-01,\n",
              "          1.08220287e-01],\n",
              "        [-5.93942702e-01, -8.94734621e-01,  1.25083551e-01,\n",
              "         -7.38466680e-02,  7.01860189e-02,  9.93446559e-02,\n",
              "         -2.71132350e-01,  5.30827761e-01,  3.39760453e-01,\n",
              "         -1.96593553e-01],\n",
              "        [-7.60605991e-01, -5.02477825e-01,  2.75044087e-02,\n",
              "          1.43822119e-01,  5.40175855e-01, -3.63656133e-01,\n",
              "         -1.30477238e+00,  4.33789492e-02,  7.57627189e-02,\n",
              "          1.47328138e-01],\n",
              "        [ 5.00297584e-02, -1.57316372e-01, -5.90215549e-02,\n",
              "         -2.99851567e-01,  1.11472145e-01, -3.71383399e-01,\n",
              "          6.93256199e-01, -1.16829433e-01, -1.98111132e-01,\n",
              "          1.89997926e-02],\n",
              "        [-3.37314337e-01, -5.80639229e-04, -4.35622662e-01,\n",
              "         -2.42182955e-01, -8.60604227e-01,  8.41230229e-02,\n",
              "         -3.54865313e-01, -2.79301435e-01,  3.85393620e-01,\n",
              "         -3.06479454e-01],\n",
              "        [-1.59743518e-01,  2.81417459e-01,  4.07456279e-01,\n",
              "          1.34446323e-01,  4.29263800e-01,  5.61332226e-01,\n",
              "          4.21020299e-01, -1.30363166e-01,  7.68948853e-01,\n",
              "          1.05054624e-01],\n",
              "        [ 4.44779247e-01, -1.46436140e-01,  3.58257480e-02,\n",
              "         -1.59573182e-01, -1.76109418e-01,  4.94428247e-01,\n",
              "         -7.18698204e-01, -3.70971799e-01, -4.09193397e-01,\n",
              "          2.47107893e-01],\n",
              "        [ 8.99607837e-02,  1.55656770e-01,  2.23765031e-01,\n",
              "         -6.11859448e-02, -1.22179754e-01,  3.37897629e-01,\n",
              "          6.55210555e-01,  4.15672883e-02,  4.45364155e-02,\n",
              "          2.36033455e-01],\n",
              "        [-6.19278789e-01, -5.19404173e-01, -2.01223180e-01,\n",
              "          7.11706460e-01,  1.35608120e-02,  4.64956999e-01,\n",
              "          2.48483166e-01,  4.08573687e-01, -3.35565843e-02,\n",
              "         -1.22530073e-01],\n",
              "        [ 1.04412489e-01, -3.39302957e-01, -1.02600353e-02,\n",
              "         -5.60578525e-01, -7.80069605e-02,  2.40833294e-02,\n",
              "          1.23879164e-01,  3.57748121e-01, -3.56455833e-01,\n",
              "         -5.20482421e-01]], dtype=float32),\n",
              " array([0., 0., 0., 0., 0., 0., 0., 0., 0., 0.], dtype=float32),\n",
              " array([[-0.41303155,  0.10052036,  0.33076003, -0.4803085 , -0.16525525,\n",
              "         -0.02119825,  0.010545  ,  0.11352508,  0.09859329, -0.1837194 ],\n",
              "        [ 0.2562774 , -0.00755459, -0.07819527,  0.09126856, -0.23128353,\n",
              "          0.38912728,  0.06315184,  0.24507633,  0.10602866,  0.4191025 ],\n",
              "        [ 0.06487163,  0.2813374 ,  0.44416818, -0.33032635,  0.29300562,\n",
              "         -0.27072856,  0.4216251 ,  0.25990656, -0.5671809 ,  0.48697367],\n",
              "        [ 0.19308344, -0.22168188,  0.26349086, -0.2991768 ,  0.5281633 ,\n",
              "          0.08184052,  0.17054453, -0.22913593, -0.0464328 ,  0.4257248 ],\n",
              "        [-0.18123795, -0.47792137,  0.5255239 ,  0.40215895,  0.46462277,\n",
              "          0.10411159, -0.13958448, -0.21612275, -0.20204663, -0.03884987],\n",
              "        [ 0.66156054,  0.27889827, -0.11947591,  0.82481456,  0.50137794,\n",
              "          0.21429858,  0.33344722,  0.2120717 ,  0.22004625,  0.03087296],\n",
              "        [ 0.32717624, -0.8771627 , -0.46321535,  0.02963473,  0.82771987,\n",
              "         -0.13026462, -0.30183458, -0.01626728, -0.06405932, -0.65677017],\n",
              "        [ 0.05337926,  0.10669716,  0.05592655, -0.221589  ,  0.21995077,\n",
              "          0.3986168 , -0.30394176,  0.11757093,  0.0309349 ,  0.02246914],\n",
              "        [-0.09781885, -0.21604557, -0.05400024,  0.10659544,  0.11781554,\n",
              "          0.14508472,  0.5548238 ,  0.1058618 ,  0.17994075,  0.28023475],\n",
              "        [-0.2798585 ,  0.2115282 ,  0.40408656, -0.27334967,  0.00540447,\n",
              "         -0.29741344,  0.46140316, -0.05845978,  0.2874419 , -0.04989875]],\n",
              "       dtype=float32),\n",
              " array([0., 0., 0., 0., 0., 0., 0., 0., 0., 0.], dtype=float32),\n",
              " array([[ 0.40724894, -0.17666703, -0.3936945 , -0.05224121, -0.28198814,\n",
              "         -0.18465525,  0.22846694,  0.2363002 ,  0.09569702,  0.24644534],\n",
              "        [ 0.3866328 ,  0.18559073,  0.09428041, -0.744136  ,  0.10094722,\n",
              "          0.30712244,  0.16942562, -0.4544755 ,  0.04016183,  0.35622495],\n",
              "        [-0.34880233,  0.02947446,  0.66652364, -0.3429695 , -0.03945965,\n",
              "          0.0465976 , -0.22189012,  0.4268193 , -0.3990204 , -0.473534  ],\n",
              "        [ 0.0312559 , -0.20069022, -0.46481916, -0.12876272, -0.04099479,\n",
              "         -0.21925633, -0.11156648,  0.279803  , -0.25368306, -0.00937104],\n",
              "        [-0.02515425, -0.02763046,  0.40072238,  0.04322486, -0.21695764,\n",
              "          0.47590545,  0.16994637, -0.265893  ,  0.08085844, -0.40378976],\n",
              "        [ 0.6059532 , -0.1895389 , -0.19460192,  0.2000098 ,  0.36851305,\n",
              "         -0.03984969,  0.23988244, -0.21324566, -0.18871564, -0.17246228],\n",
              "        [ 0.18628636,  0.0329631 , -0.05247995, -0.38005775,  0.00584614,\n",
              "          0.12507203, -0.0627242 ,  0.47634634, -0.1263298 ,  0.16162375],\n",
              "        [-0.075889  , -0.2966351 ,  0.17739066, -0.5040147 ,  0.15531404,\n",
              "         -0.5545193 , -0.02983653,  0.7035526 , -0.62984455,  0.00533921],\n",
              "        [ 0.24029747,  0.43095687, -0.08647788, -0.02468484, -0.16444159,\n",
              "         -0.27810267, -0.4375783 ,  0.12152714, -0.6819059 ,  0.03397398],\n",
              "        [-0.16528325,  0.28681096,  0.12182225, -0.29988006,  0.31876034,\n",
              "         -0.25233117,  0.18196906,  0.2729117 ,  0.14545637,  0.00265462]],\n",
              "       dtype=float32),\n",
              " array([0., 0., 0., 0., 0., 0., 0., 0., 0., 0.], dtype=float32),\n",
              " array([[ 0.28362417],\n",
              "        [-0.10162896],\n",
              "        [ 0.31355155],\n",
              "        [-0.08947942],\n",
              "        [-0.40667   ],\n",
              "        [-0.04508657],\n",
              "        [-0.31923515],\n",
              "        [ 0.16800623],\n",
              "        [ 0.28345516],\n",
              "        [-0.1022111 ]], dtype=float32),\n",
              " array([0.], dtype=float32)]"
            ]
          },
          "metadata": {},
          "execution_count": 17
        }
      ]
    },
    {
      "cell_type": "code",
      "source": [
        "model.compile(loss='binary_crossentropy',optimizer='adam',metrics=['accuracy'])"
      ],
      "metadata": {
        "id": "bjAyhD8mulGG"
      },
      "execution_count": 18,
      "outputs": []
    },
    {
      "cell_type": "code",
      "source": [
        "history = model.fit(X,y,epochs=100,validation_split=0.2)"
      ],
      "metadata": {
        "colab": {
          "base_uri": "https://localhost:8080/"
        },
        "id": "H1wa0jCaun8z",
        "outputId": "6735c58d-dfc7-492c-982b-7a14ae840b32"
      },
      "execution_count": 19,
      "outputs": [
        {
          "output_type": "stream",
          "name": "stdout",
          "text": [
            "Epoch 1/100\n",
            "\u001b[1m3/3\u001b[0m \u001b[32m━━━━━━━━━━━━━━━━━━━━\u001b[0m\u001b[37m\u001b[0m \u001b[1m2s\u001b[0m 109ms/step - accuracy: 0.4914 - loss: 0.7128 - val_accuracy: 0.5000 - val_loss: 0.7328\n",
            "Epoch 2/100\n",
            "\u001b[1m3/3\u001b[0m \u001b[32m━━━━━━━━━━━━━━━━━━━━\u001b[0m\u001b[37m\u001b[0m \u001b[1m0s\u001b[0m 19ms/step - accuracy: 0.5383 - loss: 0.7035 - val_accuracy: 0.5000 - val_loss: 0.7266\n",
            "Epoch 3/100\n",
            "\u001b[1m3/3\u001b[0m \u001b[32m━━━━━━━━━━━━━━━━━━━━\u001b[0m\u001b[37m\u001b[0m \u001b[1m0s\u001b[0m 16ms/step - accuracy: 0.5696 - loss: 0.6976 - val_accuracy: 0.5000 - val_loss: 0.7208\n",
            "Epoch 4/100\n",
            "\u001b[1m3/3\u001b[0m \u001b[32m━━━━━━━━━━━━━━━━━━━━\u001b[0m\u001b[37m\u001b[0m \u001b[1m0s\u001b[0m 16ms/step - accuracy: 0.5032 - loss: 0.7029 - val_accuracy: 0.5000 - val_loss: 0.7149\n",
            "Epoch 5/100\n",
            "\u001b[1m3/3\u001b[0m \u001b[32m━━━━━━━━━━━━━━━━━━━━\u001b[0m\u001b[37m\u001b[0m \u001b[1m0s\u001b[0m 16ms/step - accuracy: 0.4914 - loss: 0.6983 - val_accuracy: 0.4500 - val_loss: 0.7094\n",
            "Epoch 6/100\n",
            "\u001b[1m3/3\u001b[0m \u001b[32m━━━━━━━━━━━━━━━━━━━━\u001b[0m\u001b[37m\u001b[0m \u001b[1m0s\u001b[0m 16ms/step - accuracy: 0.5807 - loss: 0.6922 - val_accuracy: 0.5000 - val_loss: 0.7042\n",
            "Epoch 7/100\n",
            "\u001b[1m3/3\u001b[0m \u001b[32m━━━━━━━━━━━━━━━━━━━━\u001b[0m\u001b[37m\u001b[0m \u001b[1m0s\u001b[0m 16ms/step - accuracy: 0.5622 - loss: 0.6937 - val_accuracy: 0.5000 - val_loss: 0.6990\n",
            "Epoch 8/100\n",
            "\u001b[1m3/3\u001b[0m \u001b[32m━━━━━━━━━━━━━━━━━━━━\u001b[0m\u001b[37m\u001b[0m \u001b[1m0s\u001b[0m 22ms/step - accuracy: 0.5417 - loss: 0.6890 - val_accuracy: 0.5500 - val_loss: 0.6941\n",
            "Epoch 9/100\n",
            "\u001b[1m3/3\u001b[0m \u001b[32m━━━━━━━━━━━━━━━━━━━━\u001b[0m\u001b[37m\u001b[0m \u001b[1m0s\u001b[0m 16ms/step - accuracy: 0.6364 - loss: 0.6851 - val_accuracy: 0.5500 - val_loss: 0.6895\n",
            "Epoch 10/100\n",
            "\u001b[1m3/3\u001b[0m \u001b[32m━━━━━━━━━━━━━━━━━━━━\u001b[0m\u001b[37m\u001b[0m \u001b[1m0s\u001b[0m 16ms/step - accuracy: 0.5553 - loss: 0.6860 - val_accuracy: 0.6000 - val_loss: 0.6850\n",
            "Epoch 11/100\n",
            "\u001b[1m3/3\u001b[0m \u001b[32m━━━━━━━━━━━━━━━━━━━━\u001b[0m\u001b[37m\u001b[0m \u001b[1m0s\u001b[0m 17ms/step - accuracy: 0.6528 - loss: 0.6824 - val_accuracy: 0.6500 - val_loss: 0.6804\n",
            "Epoch 12/100\n",
            "\u001b[1m3/3\u001b[0m \u001b[32m━━━━━━━━━━━━━━━━━━━━\u001b[0m\u001b[37m\u001b[0m \u001b[1m0s\u001b[0m 22ms/step - accuracy: 0.7523 - loss: 0.6770 - val_accuracy: 0.7500 - val_loss: 0.6756\n",
            "Epoch 13/100\n",
            "\u001b[1m3/3\u001b[0m \u001b[32m━━━━━━━━━━━━━━━━━━━━\u001b[0m\u001b[37m\u001b[0m \u001b[1m0s\u001b[0m 17ms/step - accuracy: 0.7674 - loss: 0.6745 - val_accuracy: 0.8500 - val_loss: 0.6705\n",
            "Epoch 14/100\n",
            "\u001b[1m3/3\u001b[0m \u001b[32m━━━━━━━━━━━━━━━━━━━━\u001b[0m\u001b[37m\u001b[0m \u001b[1m0s\u001b[0m 17ms/step - accuracy: 0.7855 - loss: 0.6712 - val_accuracy: 0.8500 - val_loss: 0.6650\n",
            "Epoch 15/100\n",
            "\u001b[1m3/3\u001b[0m \u001b[32m━━━━━━━━━━━━━━━━━━━━\u001b[0m\u001b[37m\u001b[0m \u001b[1m0s\u001b[0m 18ms/step - accuracy: 0.8489 - loss: 0.6632 - val_accuracy: 0.8500 - val_loss: 0.6592\n",
            "Epoch 16/100\n",
            "\u001b[1m3/3\u001b[0m \u001b[32m━━━━━━━━━━━━━━━━━━━━\u001b[0m\u001b[37m\u001b[0m \u001b[1m0s\u001b[0m 16ms/step - accuracy: 0.8435 - loss: 0.6603 - val_accuracy: 0.8500 - val_loss: 0.6531\n",
            "Epoch 17/100\n",
            "\u001b[1m3/3\u001b[0m \u001b[32m━━━━━━━━━━━━━━━━━━━━\u001b[0m\u001b[37m\u001b[0m \u001b[1m0s\u001b[0m 17ms/step - accuracy: 0.8225 - loss: 0.6577 - val_accuracy: 0.8500 - val_loss: 0.6467\n",
            "Epoch 18/100\n",
            "\u001b[1m3/3\u001b[0m \u001b[32m━━━━━━━━━━━━━━━━━━━━\u001b[0m\u001b[37m\u001b[0m \u001b[1m0s\u001b[0m 16ms/step - accuracy: 0.8381 - loss: 0.6515 - val_accuracy: 0.8500 - val_loss: 0.6395\n",
            "Epoch 19/100\n",
            "\u001b[1m3/3\u001b[0m \u001b[32m━━━━━━━━━━━━━━━━━━━━\u001b[0m\u001b[37m\u001b[0m \u001b[1m0s\u001b[0m 29ms/step - accuracy: 0.8342 - loss: 0.6481 - val_accuracy: 0.8500 - val_loss: 0.6316\n",
            "Epoch 20/100\n",
            "\u001b[1m3/3\u001b[0m \u001b[32m━━━━━━━━━━━━━━━━━━━━\u001b[0m\u001b[37m\u001b[0m \u001b[1m0s\u001b[0m 19ms/step - accuracy: 0.8342 - loss: 0.6429 - val_accuracy: 0.8500 - val_loss: 0.6233\n",
            "Epoch 21/100\n",
            "\u001b[1m3/3\u001b[0m \u001b[32m━━━━━━━━━━━━━━━━━━━━\u001b[0m\u001b[37m\u001b[0m \u001b[1m0s\u001b[0m 21ms/step - accuracy: 0.8420 - loss: 0.6353 - val_accuracy: 0.8500 - val_loss: 0.6142\n",
            "Epoch 22/100\n",
            "\u001b[1m3/3\u001b[0m \u001b[32m━━━━━━━━━━━━━━━━━━━━\u001b[0m\u001b[37m\u001b[0m \u001b[1m0s\u001b[0m 17ms/step - accuracy: 0.8733 - loss: 0.6253 - val_accuracy: 0.8500 - val_loss: 0.6045\n",
            "Epoch 23/100\n",
            "\u001b[1m3/3\u001b[0m \u001b[32m━━━━━━━━━━━━━━━━━━━━\u001b[0m\u001b[37m\u001b[0m \u001b[1m0s\u001b[0m 23ms/step - accuracy: 0.8420 - loss: 0.6199 - val_accuracy: 0.8500 - val_loss: 0.5941\n",
            "Epoch 24/100\n",
            "\u001b[1m3/3\u001b[0m \u001b[32m━━━━━━━━━━━━━━━━━━━━\u001b[0m\u001b[37m\u001b[0m \u001b[1m0s\u001b[0m 17ms/step - accuracy: 0.8537 - loss: 0.6147 - val_accuracy: 0.8500 - val_loss: 0.5832\n",
            "Epoch 25/100\n",
            "\u001b[1m3/3\u001b[0m \u001b[32m━━━━━━━━━━━━━━━━━━━━\u001b[0m\u001b[37m\u001b[0m \u001b[1m0s\u001b[0m 16ms/step - accuracy: 0.8459 - loss: 0.6065 - val_accuracy: 0.9000 - val_loss: 0.5712\n",
            "Epoch 26/100\n",
            "\u001b[1m3/3\u001b[0m \u001b[32m━━━━━━━━━━━━━━━━━━━━\u001b[0m\u001b[37m\u001b[0m \u001b[1m0s\u001b[0m 24ms/step - accuracy: 0.8264 - loss: 0.5991 - val_accuracy: 0.9000 - val_loss: 0.5585\n",
            "Epoch 27/100\n",
            "\u001b[1m3/3\u001b[0m \u001b[32m━━━━━━━━━━━━━━━━━━━━\u001b[0m\u001b[37m\u001b[0m \u001b[1m0s\u001b[0m 23ms/step - accuracy: 0.8498 - loss: 0.5800 - val_accuracy: 0.9000 - val_loss: 0.5458\n",
            "Epoch 28/100\n",
            "\u001b[1m3/3\u001b[0m \u001b[32m━━━━━━━━━━━━━━━━━━━━\u001b[0m\u001b[37m\u001b[0m \u001b[1m0s\u001b[0m 29ms/step - accuracy: 0.8718 - loss: 0.5702 - val_accuracy: 0.9000 - val_loss: 0.5319\n",
            "Epoch 29/100\n",
            "\u001b[1m3/3\u001b[0m \u001b[32m━━━━━━━━━━━━━━━━━━━━\u001b[0m\u001b[37m\u001b[0m \u001b[1m0s\u001b[0m 21ms/step - accuracy: 0.8523 - loss: 0.5596 - val_accuracy: 0.9000 - val_loss: 0.5173\n",
            "Epoch 30/100\n",
            "\u001b[1m3/3\u001b[0m \u001b[32m━━━━━━━━━━━━━━━━━━━━\u001b[0m\u001b[37m\u001b[0m \u001b[1m0s\u001b[0m 20ms/step - accuracy: 0.8835 - loss: 0.5423 - val_accuracy: 0.9000 - val_loss: 0.5021\n",
            "Epoch 31/100\n",
            "\u001b[1m3/3\u001b[0m \u001b[32m━━━━━━━━━━━━━━━━━━━━\u001b[0m\u001b[37m\u001b[0m \u001b[1m0s\u001b[0m 28ms/step - accuracy: 0.8718 - loss: 0.5366 - val_accuracy: 0.9000 - val_loss: 0.4870\n",
            "Epoch 32/100\n",
            "\u001b[1m3/3\u001b[0m \u001b[32m━━━━━━━━━━━━━━━━━━━━\u001b[0m\u001b[37m\u001b[0m \u001b[1m0s\u001b[0m 29ms/step - accuracy: 0.8703 - loss: 0.5252 - val_accuracy: 0.9000 - val_loss: 0.4719\n",
            "Epoch 33/100\n",
            "\u001b[1m3/3\u001b[0m \u001b[32m━━━━━━━━━━━━━━━━━━━━\u001b[0m\u001b[37m\u001b[0m \u001b[1m0s\u001b[0m 35ms/step - accuracy: 0.8742 - loss: 0.5076 - val_accuracy: 0.9000 - val_loss: 0.4568\n",
            "Epoch 34/100\n",
            "\u001b[1m3/3\u001b[0m \u001b[32m━━━━━━━━━━━━━━━━━━━━\u001b[0m\u001b[37m\u001b[0m \u001b[1m0s\u001b[0m 21ms/step - accuracy: 0.8444 - loss: 0.5126 - val_accuracy: 0.9000 - val_loss: 0.4423\n",
            "Epoch 35/100\n",
            "\u001b[1m3/3\u001b[0m \u001b[32m━━━━━━━━━━━━━━━━━━━━\u001b[0m\u001b[37m\u001b[0m \u001b[1m0s\u001b[0m 23ms/step - accuracy: 0.8405 - loss: 0.4979 - val_accuracy: 0.9000 - val_loss: 0.4277\n",
            "Epoch 36/100\n",
            "\u001b[1m3/3\u001b[0m \u001b[32m━━━━━━━━━━━━━━━━━━━━\u001b[0m\u001b[37m\u001b[0m \u001b[1m0s\u001b[0m 34ms/step - accuracy: 0.8523 - loss: 0.4853 - val_accuracy: 0.9000 - val_loss: 0.4133\n",
            "Epoch 37/100\n",
            "\u001b[1m3/3\u001b[0m \u001b[32m━━━━━━━━━━━━━━━━━━━━\u001b[0m\u001b[37m\u001b[0m \u001b[1m0s\u001b[0m 24ms/step - accuracy: 0.8694 - loss: 0.4505 - val_accuracy: 0.9000 - val_loss: 0.3995\n",
            "Epoch 38/100\n",
            "\u001b[1m3/3\u001b[0m \u001b[32m━━━━━━━━━━━━━━━━━━━━\u001b[0m\u001b[37m\u001b[0m \u001b[1m0s\u001b[0m 26ms/step - accuracy: 0.8264 - loss: 0.4753 - val_accuracy: 0.9000 - val_loss: 0.3869\n",
            "Epoch 39/100\n",
            "\u001b[1m3/3\u001b[0m \u001b[32m━━━━━━━━━━━━━━━━━━━━\u001b[0m\u001b[37m\u001b[0m \u001b[1m0s\u001b[0m 37ms/step - accuracy: 0.8655 - loss: 0.4255 - val_accuracy: 0.9000 - val_loss: 0.3745\n",
            "Epoch 40/100\n",
            "\u001b[1m3/3\u001b[0m \u001b[32m━━━━━━━━━━━━━━━━━━━━\u001b[0m\u001b[37m\u001b[0m \u001b[1m0s\u001b[0m 23ms/step - accuracy: 0.8342 - loss: 0.4547 - val_accuracy: 0.9000 - val_loss: 0.3635\n",
            "Epoch 41/100\n",
            "\u001b[1m3/3\u001b[0m \u001b[32m━━━━━━━━━━━━━━━━━━━━\u001b[0m\u001b[37m\u001b[0m \u001b[1m0s\u001b[0m 35ms/step - accuracy: 0.8444 - loss: 0.4534 - val_accuracy: 0.9000 - val_loss: 0.3527\n",
            "Epoch 42/100\n",
            "\u001b[1m3/3\u001b[0m \u001b[32m━━━━━━━━━━━━━━━━━━━━\u001b[0m\u001b[37m\u001b[0m \u001b[1m0s\u001b[0m 27ms/step - accuracy: 0.8742 - loss: 0.4195 - val_accuracy: 0.9000 - val_loss: 0.3422\n",
            "Epoch 43/100\n",
            "\u001b[1m3/3\u001b[0m \u001b[32m━━━━━━━━━━━━━━━━━━━━\u001b[0m\u001b[37m\u001b[0m \u001b[1m0s\u001b[0m 37ms/step - accuracy: 0.8898 - loss: 0.3915 - val_accuracy: 0.9000 - val_loss: 0.3321\n",
            "Epoch 44/100\n",
            "\u001b[1m3/3\u001b[0m \u001b[32m━━━━━━━━━━━━━━━━━━━━\u001b[0m\u001b[37m\u001b[0m \u001b[1m0s\u001b[0m 40ms/step - accuracy: 0.8547 - loss: 0.4222 - val_accuracy: 0.9000 - val_loss: 0.3232\n",
            "Epoch 45/100\n",
            "\u001b[1m3/3\u001b[0m \u001b[32m━━━━━━━━━━━━━━━━━━━━\u001b[0m\u001b[37m\u001b[0m \u001b[1m0s\u001b[0m 36ms/step - accuracy: 0.8937 - loss: 0.3924 - val_accuracy: 0.9000 - val_loss: 0.3142\n",
            "Epoch 46/100\n",
            "\u001b[1m3/3\u001b[0m \u001b[32m━━━━━━━━━━━━━━━━━━━━\u001b[0m\u001b[37m\u001b[0m \u001b[1m0s\u001b[0m 22ms/step - accuracy: 0.8781 - loss: 0.3911 - val_accuracy: 0.9000 - val_loss: 0.3056\n",
            "Epoch 47/100\n",
            "\u001b[1m3/3\u001b[0m \u001b[32m━━━━━━━━━━━━━━━━━━━━\u001b[0m\u001b[37m\u001b[0m \u001b[1m0s\u001b[0m 17ms/step - accuracy: 0.8586 - loss: 0.4126 - val_accuracy: 0.9000 - val_loss: 0.2980\n",
            "Epoch 48/100\n",
            "\u001b[1m3/3\u001b[0m \u001b[32m━━━━━━━━━━━━━━━━━━━━\u001b[0m\u001b[37m\u001b[0m \u001b[1m0s\u001b[0m 16ms/step - accuracy: 0.8664 - loss: 0.4002 - val_accuracy: 0.9000 - val_loss: 0.2908\n",
            "Epoch 49/100\n",
            "\u001b[1m3/3\u001b[0m \u001b[32m━━━━━━━━━━━━━━━━━━━━\u001b[0m\u001b[37m\u001b[0m \u001b[1m0s\u001b[0m 19ms/step - accuracy: 0.8781 - loss: 0.3876 - val_accuracy: 0.9500 - val_loss: 0.2841\n",
            "Epoch 50/100\n",
            "\u001b[1m3/3\u001b[0m \u001b[32m━━━━━━━━━━━━━━━━━━━━\u001b[0m\u001b[37m\u001b[0m \u001b[1m0s\u001b[0m 17ms/step - accuracy: 0.8781 - loss: 0.3677 - val_accuracy: 0.9500 - val_loss: 0.2777\n",
            "Epoch 51/100\n",
            "\u001b[1m3/3\u001b[0m \u001b[32m━━━━━━━━━━━━━━━━━━━━\u001b[0m\u001b[37m\u001b[0m \u001b[1m0s\u001b[0m 17ms/step - accuracy: 0.8859 - loss: 0.3620 - val_accuracy: 0.9500 - val_loss: 0.2720\n",
            "Epoch 52/100\n",
            "\u001b[1m3/3\u001b[0m \u001b[32m━━━━━━━━━━━━━━━━━━━━\u001b[0m\u001b[37m\u001b[0m \u001b[1m0s\u001b[0m 17ms/step - accuracy: 0.8640 - loss: 0.3627 - val_accuracy: 0.9000 - val_loss: 0.2670\n",
            "Epoch 53/100\n",
            "\u001b[1m3/3\u001b[0m \u001b[32m━━━━━━━━━━━━━━━━━━━━\u001b[0m\u001b[37m\u001b[0m \u001b[1m0s\u001b[0m 16ms/step - accuracy: 0.8483 - loss: 0.3947 - val_accuracy: 0.9000 - val_loss: 0.2626\n",
            "Epoch 54/100\n",
            "\u001b[1m3/3\u001b[0m \u001b[32m━━━━━━━━━━━━━━━━━━━━\u001b[0m\u001b[37m\u001b[0m \u001b[1m0s\u001b[0m 17ms/step - accuracy: 0.8757 - loss: 0.3572 - val_accuracy: 0.9000 - val_loss: 0.2583\n",
            "Epoch 55/100\n",
            "\u001b[1m3/3\u001b[0m \u001b[32m━━━━━━━━━━━━━━━━━━━━\u001b[0m\u001b[37m\u001b[0m \u001b[1m0s\u001b[0m 20ms/step - accuracy: 0.8640 - loss: 0.3650 - val_accuracy: 0.9000 - val_loss: 0.2544\n",
            "Epoch 56/100\n",
            "\u001b[1m3/3\u001b[0m \u001b[32m━━━━━━━━━━━━━━━━━━━━\u001b[0m\u001b[37m\u001b[0m \u001b[1m0s\u001b[0m 22ms/step - accuracy: 0.8483 - loss: 0.3730 - val_accuracy: 0.9000 - val_loss: 0.2507\n",
            "Epoch 57/100\n",
            "\u001b[1m3/3\u001b[0m \u001b[32m━━━━━━━━━━━━━━━━━━━━\u001b[0m\u001b[37m\u001b[0m \u001b[1m0s\u001b[0m 17ms/step - accuracy: 0.8640 - loss: 0.3646 - val_accuracy: 0.9000 - val_loss: 0.2472\n",
            "Epoch 58/100\n",
            "\u001b[1m3/3\u001b[0m \u001b[32m━━━━━━━━━━━━━━━━━━━━\u001b[0m\u001b[37m\u001b[0m \u001b[1m0s\u001b[0m 17ms/step - accuracy: 0.8523 - loss: 0.3760 - val_accuracy: 0.9000 - val_loss: 0.2440\n",
            "Epoch 59/100\n",
            "\u001b[1m3/3\u001b[0m \u001b[32m━━━━━━━━━━━━━━━━━━━━\u001b[0m\u001b[37m\u001b[0m \u001b[1m0s\u001b[0m 16ms/step - accuracy: 0.8874 - loss: 0.3216 - val_accuracy: 0.9000 - val_loss: 0.2412\n",
            "Epoch 60/100\n",
            "\u001b[1m3/3\u001b[0m \u001b[32m━━━━━━━━━━━━━━━━━━━━\u001b[0m\u001b[37m\u001b[0m \u001b[1m0s\u001b[0m 17ms/step - accuracy: 0.8562 - loss: 0.3631 - val_accuracy: 0.9000 - val_loss: 0.2391\n",
            "Epoch 61/100\n",
            "\u001b[1m3/3\u001b[0m \u001b[32m━━━━━━━━━━━━━━━━━━━━\u001b[0m\u001b[37m\u001b[0m \u001b[1m0s\u001b[0m 18ms/step - accuracy: 0.8874 - loss: 0.3108 - val_accuracy: 0.9000 - val_loss: 0.2369\n",
            "Epoch 62/100\n",
            "\u001b[1m3/3\u001b[0m \u001b[32m━━━━━━━━━━━━━━━━━━━━\u001b[0m\u001b[37m\u001b[0m \u001b[1m0s\u001b[0m 21ms/step - accuracy: 0.8483 - loss: 0.3747 - val_accuracy: 0.9000 - val_loss: 0.2357\n",
            "Epoch 63/100\n",
            "\u001b[1m3/3\u001b[0m \u001b[32m━━━━━━━━━━━━━━━━━━━━\u001b[0m\u001b[37m\u001b[0m \u001b[1m0s\u001b[0m 16ms/step - accuracy: 0.8679 - loss: 0.3507 - val_accuracy: 0.9000 - val_loss: 0.2341\n",
            "Epoch 64/100\n",
            "\u001b[1m3/3\u001b[0m \u001b[32m━━━━━━━━━━━━━━━━━━━━\u001b[0m\u001b[37m\u001b[0m \u001b[1m0s\u001b[0m 17ms/step - accuracy: 0.8562 - loss: 0.3712 - val_accuracy: 0.9000 - val_loss: 0.2322\n",
            "Epoch 65/100\n",
            "\u001b[1m3/3\u001b[0m \u001b[32m━━━━━━━━━━━━━━━━━━━━\u001b[0m\u001b[37m\u001b[0m \u001b[1m0s\u001b[0m 17ms/step - accuracy: 0.8483 - loss: 0.3658 - val_accuracy: 0.9000 - val_loss: 0.2300\n",
            "Epoch 66/100\n",
            "\u001b[1m3/3\u001b[0m \u001b[32m━━━━━━━━━━━━━━━━━━━━\u001b[0m\u001b[37m\u001b[0m \u001b[1m0s\u001b[0m 16ms/step - accuracy: 0.8444 - loss: 0.3769 - val_accuracy: 0.9000 - val_loss: 0.2276\n",
            "Epoch 67/100\n",
            "\u001b[1m3/3\u001b[0m \u001b[32m━━━━━━━━━━━━━━━━━━━━\u001b[0m\u001b[37m\u001b[0m \u001b[1m0s\u001b[0m 18ms/step - accuracy: 0.8679 - loss: 0.3416 - val_accuracy: 0.9000 - val_loss: 0.2248\n",
            "Epoch 68/100\n",
            "\u001b[1m3/3\u001b[0m \u001b[32m━━━━━━━━━━━━━━━━━━━━\u001b[0m\u001b[37m\u001b[0m \u001b[1m0s\u001b[0m 28ms/step - accuracy: 0.8562 - loss: 0.3560 - val_accuracy: 0.9000 - val_loss: 0.2224\n",
            "Epoch 69/100\n",
            "\u001b[1m3/3\u001b[0m \u001b[32m━━━━━━━━━━━━━━━━━━━━\u001b[0m\u001b[37m\u001b[0m \u001b[1m0s\u001b[0m 20ms/step - accuracy: 0.8523 - loss: 0.3548 - val_accuracy: 0.8500 - val_loss: 0.2205\n",
            "Epoch 70/100\n",
            "\u001b[1m3/3\u001b[0m \u001b[32m━━━━━━━━━━━━━━━━━━━━\u001b[0m\u001b[37m\u001b[0m \u001b[1m0s\u001b[0m 16ms/step - accuracy: 0.8562 - loss: 0.3511 - val_accuracy: 0.8500 - val_loss: 0.2187\n",
            "Epoch 71/100\n",
            "\u001b[1m3/3\u001b[0m \u001b[32m━━━━━━━━━━━━━━━━━━━━\u001b[0m\u001b[37m\u001b[0m \u001b[1m0s\u001b[0m 16ms/step - accuracy: 0.8781 - loss: 0.3514 - val_accuracy: 0.8500 - val_loss: 0.2167\n",
            "Epoch 72/100\n",
            "\u001b[1m3/3\u001b[0m \u001b[32m━━━━━━━━━━━━━━━━━━━━\u001b[0m\u001b[37m\u001b[0m \u001b[1m0s\u001b[0m 16ms/step - accuracy: 0.8601 - loss: 0.3355 - val_accuracy: 0.9000 - val_loss: 0.2146\n",
            "Epoch 73/100\n",
            "\u001b[1m3/3\u001b[0m \u001b[32m━━━━━━━━━━━━━━━━━━━━\u001b[0m\u001b[37m\u001b[0m \u001b[1m0s\u001b[0m 17ms/step - accuracy: 0.8718 - loss: 0.3285 - val_accuracy: 0.9000 - val_loss: 0.2125\n",
            "Epoch 74/100\n",
            "\u001b[1m3/3\u001b[0m \u001b[32m━━━━━━━━━━━━━━━━━━━━\u001b[0m\u001b[37m\u001b[0m \u001b[1m0s\u001b[0m 16ms/step - accuracy: 0.8562 - loss: 0.3520 - val_accuracy: 0.9000 - val_loss: 0.2111\n",
            "Epoch 75/100\n",
            "\u001b[1m3/3\u001b[0m \u001b[32m━━━━━━━━━━━━━━━━━━━━\u001b[0m\u001b[37m\u001b[0m \u001b[1m0s\u001b[0m 17ms/step - accuracy: 0.8679 - loss: 0.3277 - val_accuracy: 0.9000 - val_loss: 0.2093\n",
            "Epoch 76/100\n",
            "\u001b[1m3/3\u001b[0m \u001b[32m━━━━━━━━━━━━━━━━━━━━\u001b[0m\u001b[37m\u001b[0m \u001b[1m0s\u001b[0m 18ms/step - accuracy: 0.8679 - loss: 0.3298 - val_accuracy: 0.9000 - val_loss: 0.2077\n",
            "Epoch 77/100\n",
            "\u001b[1m3/3\u001b[0m \u001b[32m━━━━━━━━━━━━━━━━━━━━\u001b[0m\u001b[37m\u001b[0m \u001b[1m0s\u001b[0m 17ms/step - accuracy: 0.8483 - loss: 0.3260 - val_accuracy: 0.9000 - val_loss: 0.2064\n",
            "Epoch 78/100\n",
            "\u001b[1m3/3\u001b[0m \u001b[32m━━━━━━━━━━━━━━━━━━━━\u001b[0m\u001b[37m\u001b[0m \u001b[1m0s\u001b[0m 19ms/step - accuracy: 0.8718 - loss: 0.3145 - val_accuracy: 0.9000 - val_loss: 0.2053\n",
            "Epoch 79/100\n",
            "\u001b[1m3/3\u001b[0m \u001b[32m━━━━━━━━━━━━━━━━━━━━\u001b[0m\u001b[37m\u001b[0m \u001b[1m0s\u001b[0m 20ms/step - accuracy: 0.8327 - loss: 0.3696 - val_accuracy: 0.9000 - val_loss: 0.2046\n",
            "Epoch 80/100\n",
            "\u001b[1m3/3\u001b[0m \u001b[32m━━━━━━━━━━━━━━━━━━━━\u001b[0m\u001b[37m\u001b[0m \u001b[1m0s\u001b[0m 16ms/step - accuracy: 0.8601 - loss: 0.3421 - val_accuracy: 0.8500 - val_loss: 0.2035\n",
            "Epoch 81/100\n",
            "\u001b[1m3/3\u001b[0m \u001b[32m━━━━━━━━━━━━━━━━━━━━\u001b[0m\u001b[37m\u001b[0m \u001b[1m0s\u001b[0m 28ms/step - accuracy: 0.8757 - loss: 0.3274 - val_accuracy: 0.8500 - val_loss: 0.2021\n",
            "Epoch 82/100\n",
            "\u001b[1m3/3\u001b[0m \u001b[32m━━━━━━━━━━━━━━━━━━━━\u001b[0m\u001b[37m\u001b[0m \u001b[1m0s\u001b[0m 21ms/step - accuracy: 0.8562 - loss: 0.3341 - val_accuracy: 0.8500 - val_loss: 0.2009\n",
            "Epoch 83/100\n",
            "\u001b[1m3/3\u001b[0m \u001b[32m━━━━━━━━━━━━━━━━━━━━\u001b[0m\u001b[37m\u001b[0m \u001b[1m0s\u001b[0m 19ms/step - accuracy: 0.8640 - loss: 0.3285 - val_accuracy: 0.9000 - val_loss: 0.2004\n",
            "Epoch 84/100\n",
            "\u001b[1m3/3\u001b[0m \u001b[32m━━━━━━━━━━━━━━━━━━━━\u001b[0m\u001b[37m\u001b[0m \u001b[1m0s\u001b[0m 17ms/step - accuracy: 0.8757 - loss: 0.3047 - val_accuracy: 0.9000 - val_loss: 0.1998\n",
            "Epoch 85/100\n",
            "\u001b[1m3/3\u001b[0m \u001b[32m━━━━━━━━━━━━━━━━━━━━\u001b[0m\u001b[37m\u001b[0m \u001b[1m0s\u001b[0m 17ms/step - accuracy: 0.8444 - loss: 0.3423 - val_accuracy: 0.9000 - val_loss: 0.1997\n",
            "Epoch 86/100\n",
            "\u001b[1m3/3\u001b[0m \u001b[32m━━━━━━━━━━━━━━━━━━━━\u001b[0m\u001b[37m\u001b[0m \u001b[1m0s\u001b[0m 18ms/step - accuracy: 0.8703 - loss: 0.3378 - val_accuracy: 0.9000 - val_loss: 0.1994\n",
            "Epoch 87/100\n",
            "\u001b[1m3/3\u001b[0m \u001b[32m━━━━━━━━━━━━━━━━━━━━\u001b[0m\u001b[37m\u001b[0m \u001b[1m0s\u001b[0m 17ms/step - accuracy: 0.8547 - loss: 0.3416 - val_accuracy: 0.9000 - val_loss: 0.1989\n",
            "Epoch 88/100\n",
            "\u001b[1m3/3\u001b[0m \u001b[32m━━━━━━━━━━━━━━━━━━━━\u001b[0m\u001b[37m\u001b[0m \u001b[1m0s\u001b[0m 18ms/step - accuracy: 0.8718 - loss: 0.3243 - val_accuracy: 0.9000 - val_loss: 0.1981\n",
            "Epoch 89/100\n",
            "\u001b[1m3/3\u001b[0m \u001b[32m━━━━━━━━━━━━━━━━━━━━\u001b[0m\u001b[37m\u001b[0m \u001b[1m0s\u001b[0m 17ms/step - accuracy: 0.8366 - loss: 0.3576 - val_accuracy: 0.9000 - val_loss: 0.1969\n",
            "Epoch 90/100\n",
            "\u001b[1m3/3\u001b[0m \u001b[32m━━━━━━━━━━━━━━━━━━━━\u001b[0m\u001b[37m\u001b[0m \u001b[1m0s\u001b[0m 22ms/step - accuracy: 0.8523 - loss: 0.3312 - val_accuracy: 0.9500 - val_loss: 0.1952\n",
            "Epoch 91/100\n",
            "\u001b[1m3/3\u001b[0m \u001b[32m━━━━━━━━━━━━━━━━━━━━\u001b[0m\u001b[37m\u001b[0m \u001b[1m0s\u001b[0m 17ms/step - accuracy: 0.8249 - loss: 0.3879 - val_accuracy: 0.9500 - val_loss: 0.1941\n",
            "Epoch 92/100\n",
            "\u001b[1m3/3\u001b[0m \u001b[32m━━━━━━━━━━━━━━━━━━━━\u001b[0m\u001b[37m\u001b[0m \u001b[1m0s\u001b[0m 16ms/step - accuracy: 0.8444 - loss: 0.3504 - val_accuracy: 0.9500 - val_loss: 0.1927\n",
            "Epoch 93/100\n",
            "\u001b[1m3/3\u001b[0m \u001b[32m━━━━━━━━━━━━━━━━━━━━\u001b[0m\u001b[37m\u001b[0m \u001b[1m0s\u001b[0m 17ms/step - accuracy: 0.8835 - loss: 0.2804 - val_accuracy: 0.9500 - val_loss: 0.1910\n",
            "Epoch 94/100\n",
            "\u001b[1m3/3\u001b[0m \u001b[32m━━━━━━━━━━━━━━━━━━━━\u001b[0m\u001b[37m\u001b[0m \u001b[1m0s\u001b[0m 18ms/step - accuracy: 0.8835 - loss: 0.2782 - val_accuracy: 0.9500 - val_loss: 0.1903\n",
            "Epoch 95/100\n",
            "\u001b[1m3/3\u001b[0m \u001b[32m━━━━━━━━━━━━━━━━━━━━\u001b[0m\u001b[37m\u001b[0m \u001b[1m0s\u001b[0m 33ms/step - accuracy: 0.8718 - loss: 0.3024 - val_accuracy: 0.9500 - val_loss: 0.1897\n",
            "Epoch 96/100\n",
            "\u001b[1m3/3\u001b[0m \u001b[32m━━━━━━━━━━━━━━━━━━━━\u001b[0m\u001b[37m\u001b[0m \u001b[1m0s\u001b[0m 18ms/step - accuracy: 0.8703 - loss: 0.3209 - val_accuracy: 0.9500 - val_loss: 0.1894\n",
            "Epoch 97/100\n",
            "\u001b[1m3/3\u001b[0m \u001b[32m━━━━━━━━━━━━━━━━━━━━\u001b[0m\u001b[37m\u001b[0m \u001b[1m0s\u001b[0m 17ms/step - accuracy: 0.8664 - loss: 0.3483 - val_accuracy: 0.9000 - val_loss: 0.1887\n",
            "Epoch 98/100\n",
            "\u001b[1m3/3\u001b[0m \u001b[32m━━━━━━━━━━━━━━━━━━━━\u001b[0m\u001b[37m\u001b[0m \u001b[1m0s\u001b[0m 18ms/step - accuracy: 0.8805 - loss: 0.3126 - val_accuracy: 0.9000 - val_loss: 0.1867\n",
            "Epoch 99/100\n",
            "\u001b[1m3/3\u001b[0m \u001b[32m━━━━━━━━━━━━━━━━━━━━\u001b[0m\u001b[37m\u001b[0m \u001b[1m0s\u001b[0m 17ms/step - accuracy: 0.8727 - loss: 0.3499 - val_accuracy: 0.9000 - val_loss: 0.1846\n",
            "Epoch 100/100\n",
            "\u001b[1m3/3\u001b[0m \u001b[32m━━━━━━━━━━━━━━━━━━━━\u001b[0m\u001b[37m\u001b[0m \u001b[1m0s\u001b[0m 17ms/step - accuracy: 0.8625 - loss: 0.3417 - val_accuracy: 0.9000 - val_loss: 0.1824\n"
          ]
        }
      ]
    },
    {
      "cell_type": "code",
      "source": [
        "model.get_weights()"
      ],
      "metadata": {
        "colab": {
          "base_uri": "https://localhost:8080/"
        },
        "id": "8K2E1Z5Oupj_",
        "outputId": "f577aae4-fecd-4aa0-bcb8-84892d938be9"
      },
      "execution_count": 20,
      "outputs": [
        {
          "output_type": "execute_result",
          "data": {
            "text/plain": [
              "[array([[ 0.637016  ,  0.9094028 , -0.89813626,  0.3424307 ,  0.257253  ,\n",
              "         -0.9358837 ,  0.53136456, -0.4670441 , -0.22539452, -0.36294475],\n",
              "        [-1.4020469 ,  0.7737016 ,  1.0235808 , -0.05575084,  0.2491203 ,\n",
              "         -0.00595073,  0.13501579,  0.5741511 ,  0.8218187 , -0.09655046]],\n",
              "       dtype=float32),\n",
              " array([ 0.16089152,  0.10447963, -0.00637434, -0.21643545, -0.07775702,\n",
              "        -0.08530776,  0.21320443, -0.05789469,  0.10019562, -0.03328855],\n",
              "       dtype=float32),\n",
              " array([[ 4.9635012e-02, -6.9918805e-03,  6.0058975e-01, -3.0015272e-01,\n",
              "          3.9841595e-01, -9.9152155e-02,  1.5225522e-01, -7.4062693e-01,\n",
              "         -5.0050545e-01,  3.5911992e-01],\n",
              "        [-5.1668352e-01, -8.9473462e-01,  2.3614325e-01,  1.0960388e-01,\n",
              "          2.7111447e-01,  1.2578206e-01, -3.4817386e-01,  6.4468652e-01,\n",
              "          4.3024090e-01, -1.2369964e-01],\n",
              "        [-6.7528695e-01, -5.0247782e-01, -1.9315243e-02,  2.4944878e-01,\n",
              "          5.7449830e-01, -2.7166942e-01, -1.3331032e+00,  1.6856349e-01,\n",
              "          1.2948151e-01,  1.2989952e-01],\n",
              "        [ 1.2824079e-01, -1.5731637e-01,  1.2917452e-01, -1.8539183e-01,\n",
              "          3.0415121e-01, -4.3232280e-01,  6.1613005e-01, -1.2160948e-01,\n",
              "         -2.0127849e-01,  2.1061838e-01],\n",
              "        [-3.3840886e-01, -5.8063923e-04, -3.4671813e-01, -6.1816055e-02,\n",
              "         -6.9223839e-01,  1.1865598e-01, -3.9784679e-01, -1.8928806e-01,\n",
              "          4.9565598e-01, -2.2688690e-01],\n",
              "        [-1.1240772e-01,  2.8141746e-01,  2.1249408e-01,  3.2072675e-01,\n",
              "          4.8680401e-01,  7.8707612e-01,  3.9030260e-01,  1.2942006e-01,\n",
              "          9.8003435e-01, -6.4147711e-02],\n",
              "        [ 5.7966167e-01, -1.4643614e-01,  1.9226603e-01,  1.0148591e-02,\n",
              "          5.9879035e-02,  4.9742979e-01, -8.1321841e-01, -2.8833646e-01,\n",
              "         -3.3571786e-01,  3.7288150e-01],\n",
              "        [ 8.9960784e-02,  1.5565677e-01,  1.7756195e-01,  5.1633373e-02,\n",
              "         -7.9249375e-02,  4.3513781e-01,  6.2466186e-01,  1.7084257e-01,\n",
              "          1.0160576e-01,  2.1527857e-01],\n",
              "        [-5.3715467e-01, -5.1940417e-01, -3.0994567e-01,  8.7406927e-01,\n",
              "          1.0834956e-01,  5.6249493e-01,  2.3082492e-01,  5.7478946e-01,\n",
              "          4.4734452e-02, -2.0649466e-01],\n",
              "        [ 1.5186092e-01, -3.3930296e-01, -2.2954267e-01, -3.5387695e-01,\n",
              "          9.0265460e-03,  2.7345523e-01,  8.2765445e-02,  6.3691342e-01,\n",
              "         -1.2747163e-01, -7.2350317e-01]], dtype=float32),\n",
              " array([ 0.16536467,  0.        ,  0.17374606,  0.11876023,  0.18704303,\n",
              "         0.02082695, -0.08585842,  0.11314801,  0.03210934,  0.1400195 ],\n",
              "       dtype=float32),\n",
              " array([[-0.46442997,  0.10052036,  0.5160543 , -0.5568012 , -0.18549103,\n",
              "         -0.11450804,  0.19435744,  0.29843727,  0.09859329, -0.0109892 ],\n",
              "        [ 0.2562774 , -0.00755459, -0.07819527,  0.09126856, -0.23128353,\n",
              "          0.38912728,  0.06315184,  0.24507633,  0.10602866,  0.4191025 ],\n",
              "        [-0.01808831,  0.15713385,  0.6525013 , -0.29722196,  0.26372686,\n",
              "         -0.2645244 ,  0.65174365,  0.47751817, -0.5456193 ,  0.58658016],\n",
              "        [ 0.2835909 , -0.19340447,  0.15389515, -0.20525393,  0.7225475 ,\n",
              "          0.24333198,  0.04857363, -0.47565508, -0.09364524,  0.6090795 ],\n",
              "        [-0.12921295, -0.5761457 ,  0.57824934,  0.49508205,  0.6748196 ,\n",
              "          0.22069721, -0.09989998, -0.10259032, -0.23846276,  0.16504352],\n",
              "        [ 0.7869228 ,  0.21388198, -0.27026334,  0.9428426 ,  0.7116571 ,\n",
              "          0.41676393,  0.17805612,  0.05240057,  0.16438608,  0.23743203],\n",
              "        [ 0.28338686, -0.9094892 , -0.38827947,  0.00136775,  0.7234314 ,\n",
              "         -0.16181043, -0.23278494,  0.0678953 , -0.06405932, -0.6153889 ],\n",
              "        [ 0.15495312,  0.13238   , -0.09372278, -0.15183704,  0.40208867,\n",
              "          0.57654536, -0.44187504, -0.09369877, -0.02641313,  0.21537037],\n",
              "        [ 0.07232909, -0.18985367, -0.2340825 ,  0.29109395,  0.34616193,\n",
              "          0.3758081 ,  0.3605276 , -0.10613298,  0.13421735,  0.51618904],\n",
              "        [-0.4352172 ,  0.08583571,  0.6189262 , -0.29255506, -0.02758125,\n",
              "         -0.43592668,  0.6771892 ,  0.20006497,  0.27460983,  0.07879537]],\n",
              "       dtype=float32),\n",
              " array([-0.06130516, -0.09241604,  0.16150394, -0.00702494,  0.1366041 ,\n",
              "         0.07144184,  0.11045285,  0.14399108, -0.05483831,  0.12947829],\n",
              "       dtype=float32),\n",
              " array([[ 0.27363163, -0.19794102, -0.54811245, -0.05224121, -0.13869067,\n",
              "          0.03629186,  0.42542455,  0.04436479,  0.09569702,  0.22718446],\n",
              "        [ 0.4121268 ,  0.12918694,  0.17825149, -0.744136  ,  0.06440602,\n",
              "          0.23362358,  0.10409919, -0.38080466,  0.04016183,  0.33715773],\n",
              "        [-0.4395202 ,  0.01876774,  0.83383185, -0.3429695 , -0.19677283,\n",
              "         -0.02646805, -0.24174663,  0.6097121 , -0.3990204 , -0.49042797],\n",
              "        [-0.08745053, -0.1659173 , -0.62072885, -0.12876272,  0.12120955,\n",
              "          0.007414  ,  0.0802967 ,  0.08863711, -0.25368306, -0.02853352],\n",
              "        [-0.15151428, -0.01885396,  0.37372127,  0.04322486, -0.11332679,\n",
              "          0.65677947,  0.3294808 , -0.2918205 ,  0.08085844, -0.42298818],\n",
              "        [ 0.47739947, -0.15356392, -0.3324234 ,  0.2000098 ,  0.5221307 ,\n",
              "          0.16894092,  0.42147994, -0.39163065, -0.18871564, -0.19109683],\n",
              "        [ 0.18738092,  0.00973915,  0.13103318, -0.38005775, -0.13346575,\n",
              "          0.02880964, -0.11620487,  0.67308813, -0.1263298 ,  0.14274576],\n",
              "        [-0.08296951, -0.3793948 ,  0.4259064 , -0.5040147 ,  0.01448258,\n",
              "         -0.72400737, -0.15357848,  0.9524851 , -0.62984455, -0.01373805],\n",
              "        [ 0.19955283,  0.43095687, -0.11129423, -0.02468484, -0.16444159,\n",
              "         -0.2264338 , -0.3947065 ,  0.08525858, -0.6819059 ,  0.02352431],\n",
              "        [-0.30136243,  0.2727003 ,  0.16237772, -0.29988006,  0.41326582,\n",
              "         -0.07769844,  0.34409633,  0.34866548,  0.14545637, -0.01591879]],\n",
              "       dtype=float32),\n",
              " array([-0.07461897, -0.04865506,  0.15823855,  0.        , -0.00449047,\n",
              "        -0.02666358,  0.01270813,  0.13802953,  0.        , -0.01901999],\n",
              "       dtype=float32),\n",
              " array([[ 0.19146192],\n",
              "        [-0.07908899],\n",
              "        [ 0.5084759 ],\n",
              "        [-0.08947942],\n",
              "        [-0.56290185],\n",
              "        [-0.21943828],\n",
              "        [-0.5184737 ],\n",
              "        [ 0.38106167],\n",
              "        [ 0.28345516],\n",
              "        [-0.08659568]], dtype=float32),\n",
              " array([0.07665184], dtype=float32)]"
            ]
          },
          "metadata": {},
          "execution_count": 20
        }
      ]
    },
    {
      "cell_type": "code",
      "source": [
        "from mlxtend.plotting import plot_decision_regions\n",
        "plot_decision_regions(X,y.astype('int'), clf=model, legend=2)"
      ],
      "metadata": {
        "colab": {
          "base_uri": "https://localhost:8080/",
          "height": 467
        },
        "id": "h2jKnSGeuuLY",
        "outputId": "b14e7777-bb4e-4d4e-e27e-59aa209441cd"
      },
      "execution_count": 21,
      "outputs": [
        {
          "metadata": {
            "tags": null
          },
          "name": "stdout",
          "output_type": "stream",
          "text": [
            "\u001b[1m9600/9600\u001b[0m \u001b[32m━━━━━━━━━━━━━━━━━━━━\u001b[0m\u001b[37m\u001b[0m \u001b[1m17s\u001b[0m 2ms/step\n"
          ]
        },
        {
          "data": {
            "text/plain": [
              "<Axes: >"
            ]
          },
          "execution_count": 21,
          "metadata": {},
          "output_type": "execute_result"
        },
        {
          "data": {
            "image/png": "[encoded data removed]",
            "text/plain": [
              "<Figure size 640x480 with 1 Axes>"
            ]
          },
          "metadata": {},
          "output_type": "display_data"
        }
      ]
    },
    {
      "cell_type": "code",
      "source": [
        "(np.random.randn(10,10)*0.01).min()"
      ],
      "metadata": {
        "colab": {
          "base_uri": "https://localhost:8080/"
        },
        "id": "6cQtO9mpuxLI",
        "outputId": "31875be5-720f-435d-fd22-ca02c0d8a123"
      },
      "execution_count": 22,
      "outputs": [
        {
          "data": {
            "text/plain": [
              "-0.020537534965301626"
            ]
          },
          "execution_count": 22,
          "metadata": {},
          "output_type": "execute_result"
        }
      ]
    },
    {
      "cell_type": "code",
      "source": [
        "(np.random.randn(10,10)*0.01).max()"
      ],
      "metadata": {
        "colab": {
          "base_uri": "https://localhost:8080/"
        },
        "id": "diiaUiL92T7H",
        "outputId": "629a74a0-9d06-4ee1-8659-d4c82f0c0c4f"
      },
      "execution_count": 23,
      "outputs": [
        {
          "data": {
            "text/plain": [
              "0.022459145570528197"
            ]
          },
          "execution_count": 23,
          "metadata": {},
          "output_type": "execute_result"
        }
      ]
    }
  ]
}